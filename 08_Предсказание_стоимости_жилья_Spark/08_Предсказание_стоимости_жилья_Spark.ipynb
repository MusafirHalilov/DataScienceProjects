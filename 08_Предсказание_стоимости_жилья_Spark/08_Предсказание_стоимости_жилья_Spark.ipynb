{
  "cells": [
    {
      "cell_type": "markdown",
      "id": "GEqQaHzsZ_bA",
      "metadata": {
        "id": "GEqQaHzsZ_bA"
      },
      "source": [
        "# Предсказание стоимости жилья\n",
        "\n",
        "В проекте нам нужно обучить модель линейной регрессии на данных о жилье в Калифорнии в 1990 году."
      ]
    },
    {
      "cell_type": "markdown",
      "source": [
        "Каждая строка содержит агрегированную статистику о жилом массиве. Жилой массив — минимальная географическая единица с населением от 600 до 3000 человек в зависимости от штата. Одна строка в данных содержит статистику в среднем о 1425.5 обитателях жилого массива.\n",
        "\n",
        "На основе данных нужно предсказать медианную стоимость дома в жилом массиве — median_house_value. Обучим модель и сделаем предсказания на тестовой выборке. Для оценки качества модели используем метрики RMSE, MAE и R2."
      ],
      "metadata": {
        "id": "VeIQFAu2-G2B"
      },
      "id": "VeIQFAu2-G2B"
    },
    {
      "cell_type": "markdown",
      "source": [
        "###Описание данных\n",
        "В колонках датасета содержатся следующие данные:\n",
        "\n",
        "- longitude — широта;\n",
        "- latitude — долгота;\n",
        "- housing_median_age — медианный возраст жителей жилого массива;\n",
        "- total_rooms — общее количество комнат в домах жилого массива;\n",
        "- total_bedrooms — общее количество спален в домах жилого массива;\n",
        "- population — количество человек, которые проживают в жилом массиве;\n",
        "- households — количество домовладений в жилом массиве;\n",
        "- median_income — медианный доход жителей жилого массива;\n",
        "- median_house_value — медианная стоимость дома в жилом массиве;\n",
        "- ocean_proximity — близость к океану."
      ],
      "metadata": {
        "id": "ZkNeYuBB-wx1"
      },
      "id": "ZkNeYuBB-wx1"
    },
    {
      "cell_type": "markdown",
      "source": [
        "###План выполнения проекта\n",
        "- Инициализируем локальную Spark-сессию.\n",
        "- Прочитайтем содержимое файла housing.csv.\n",
        "- Выведем типы данных колонок датасета. Используем методы pySpark.\n",
        "- Выполним предобработку данных:\n",
        "    - Исследуем данные на наличие пропусков и заполним их, выбрав значения по своему усмотрению.\n",
        "    - Преобразуем колонку с категориальными значениями техникой One hot encoding.\n",
        "- Построим две модели линейной регрессии на разных наборах данных:\n",
        "    - используя все данные из файла;\n",
        "    - используя только числовые переменные, исключив категориальные.\n",
        "    - Для построения модели используем оценщик LinearRegression из библиотеки MLlib.\n",
        "- Сравним результаты работы линейной регрессии на двух наборах данных по метрикам RMSE, MAE и R2."
      ],
      "metadata": {
        "id": "AIVch6T7_D2E"
      },
      "id": "AIVch6T7_D2E"
    },
    {
      "cell_type": "markdown",
      "source": [
        "####Импорт необходимых библиотек."
      ],
      "metadata": {
        "id": "aEP5xjQ_tyT2"
      },
      "id": "aEP5xjQ_tyT2"
    },
    {
      "cell_type": "code",
      "execution_count": 1,
      "id": "df92e3ec",
      "metadata": {
        "id": "df92e3ec"
      },
      "outputs": [],
      "source": [
        "import pandas as pd # Импортируем библиотеку pandas для работы с данными в формате таблиц.\n",
        "import numpy as np # Импортируем библиотеку numpy для работы с массивами и числовыми операциями."
      ]
    },
    {
      "cell_type": "code",
      "source": [
        "!pip install pyspark"
      ],
      "metadata": {
        "colab": {
          "base_uri": "https://localhost:8080/"
        },
        "id": "BxeHAqEuAork",
        "outputId": "508c8ee6-f24a-4b7e-ccdd-61675901e0cd"
      },
      "id": "BxeHAqEuAork",
      "execution_count": 2,
      "outputs": [
        {
          "output_type": "stream",
          "name": "stdout",
          "text": [
            "Collecting pyspark\n",
            "  Downloading pyspark-3.5.3.tar.gz (317.3 MB)\n",
            "\u001b[2K     \u001b[90m━━━━━━━━━━━━━━━━━━━━━━━━━━━━━━━━━━━━━━━━\u001b[0m \u001b[32m317.3/317.3 MB\u001b[0m \u001b[31m4.8 MB/s\u001b[0m eta \u001b[36m0:00:00\u001b[0m\n",
            "\u001b[?25h  Preparing metadata (setup.py) ... \u001b[?25l\u001b[?25hdone\n",
            "Requirement already satisfied: py4j==0.10.9.7 in /usr/local/lib/python3.10/dist-packages (from pyspark) (0.10.9.7)\n",
            "Building wheels for collected packages: pyspark\n",
            "  Building wheel for pyspark (setup.py) ... \u001b[?25l\u001b[?25hdone\n",
            "  Created wheel for pyspark: filename=pyspark-3.5.3-py2.py3-none-any.whl size=317840625 sha256=8913683487c6379d888b93ac98d202a3602fc57cdf49a00f3a9ebb0a807f3e3a\n",
            "  Stored in directory: /root/.cache/pip/wheels/1b/3a/92/28b93e2fbfdbb07509ca4d6f50c5e407f48dce4ddbda69a4ab\n",
            "Successfully built pyspark\n",
            "Installing collected packages: pyspark\n",
            "Successfully installed pyspark-3.5.3\n"
          ]
        }
      ]
    },
    {
      "cell_type": "markdown",
      "source": [
        "Импорт необходимых библиотек и запуск spark сессии."
      ],
      "metadata": {
        "id": "2uMHwjSpoc8I"
      },
      "id": "2uMHwjSpoc8I"
    },
    {
      "cell_type": "code",
      "source": [
        "import pyspark # Импортируем библиотеку pyspark для работы с большими данными и распределенными вычислениями.\n",
        "from pyspark.sql import SparkSession # Импортируем класс SparkSession для создания сессии Spark.\n",
        "from pyspark.sql.types import * # Импортируем все типы данных из pyspark.sql.types для определения схемы данных.\n",
        "import pyspark.sql.functions as F # Импортируем функции из pyspark.sql для работы с данными.\n",
        "\n",
        "from pyspark.ml.feature import Imputer # Импортируем класс Imputer для обработки пропущенных значений.\n",
        "from pyspark.ml.feature import StringIndexer, VectorAssembler, StandardScaler # Импортируем классы для обработки признаков.\n",
        "from pyspark.ml.regression import LinearRegression # Импортируем класс LinearRegression для построения линейной регрессии.\n",
        "\n",
        "pyspark_version = pyspark.__version__ # Получаем версию установленного PySpark.\n",
        "if int(pyspark_version[:1]) == 3: # Проверяем, если версия PySpark 3.x.\n",
        "  from pyspark.ml.feature import OneHotEncoder # Импортируем OneHotEncoder для кодирования категориальных признаков.\n",
        "elif int(pyspark_version[:1]) == 2: # Если версия PySpark 2.x.\n",
        "  from pyspark.ml.feature import OneHotEncodeEstimator # Импортируем OneHotEncodeEstimator для\n",
        "                                                       # кодирования категориальных признаков.\n",
        "\n",
        "SEED = 31416 # Устанавливаем фиксированное значение для генератора случайных чисел для воспроизводимости.\n",
        "# Начинаем создание сессии Spark.\n",
        "spark = SparkSession.builder \\\n",
        "                    .master('local') \\\n",
        "                    .appName('California Housing ML') \\\n",
        "                    .getOrCreate()\n",
        "# Указываем, что будем использовать локальный режим.\n",
        "# Задаем имя приложения.\n",
        "# Создаем сессию или получаем существующую."
      ],
      "metadata": {
        "id": "FRBmoAt3BdmY"
      },
      "id": "FRBmoAt3BdmY",
      "execution_count": 3,
      "outputs": []
    },
    {
      "cell_type": "markdown",
      "source": [
        "Прочитайтем содержимое файла housing.csv."
      ],
      "metadata": {
        "id": "KFEFCY8vp6a0"
      },
      "id": "KFEFCY8vp6a0"
    },
    {
      "cell_type": "code",
      "source": [
        "df = spark.read.load('housing.csv', format='csv', sep=',', inferSchema=True, header='true') # Загружаем данные из CSV файла\n",
        "                                                                                            # в DataFrame.\n",
        "df.printSchema() # Выводим схему DataFrame, чтобы увидеть типы данных в каждом столбце."
      ],
      "metadata": {
        "id": "bZChqApEDcPL",
        "colab": {
          "base_uri": "https://localhost:8080/"
        },
        "outputId": "e7d5af3b-abad-4d70-bcd0-a6f9b299b678"
      },
      "id": "bZChqApEDcPL",
      "execution_count": 4,
      "outputs": [
        {
          "output_type": "stream",
          "name": "stdout",
          "text": [
            "root\n",
            " |-- longitude: double (nullable = true)\n",
            " |-- latitude: double (nullable = true)\n",
            " |-- housing_median_age: double (nullable = true)\n",
            " |-- total_rooms: double (nullable = true)\n",
            " |-- total_bedrooms: double (nullable = true)\n",
            " |-- population: double (nullable = true)\n",
            " |-- households: double (nullable = true)\n",
            " |-- median_income: double (nullable = true)\n",
            " |-- median_house_value: double (nullable = true)\n",
            " |-- ocean_proximity: string (nullable = true)\n",
            "\n"
          ]
        }
      ]
    },
    {
      "cell_type": "markdown",
      "source": [
        "Выведем типы данных колонок датасета. Используем методы pySpark."
      ],
      "metadata": {
        "id": "BI5iY0ESryJ7"
      },
      "id": "BI5iY0ESryJ7"
    },
    {
      "cell_type": "code",
      "source": [
        "pd.DataFrame(df.dtypes, columns=['column', 'type']) # Создаем DataFrame pandas для отображения типов данных столбцов."
      ],
      "metadata": {
        "colab": {
          "base_uri": "https://localhost:8080/",
          "height": 363
        },
        "id": "jWvkAXlerxFb",
        "outputId": "11c3bdf8-ddb7-4ab4-bfa9-097306258c19"
      },
      "id": "jWvkAXlerxFb",
      "execution_count": 5,
      "outputs": [
        {
          "output_type": "execute_result",
          "data": {
            "text/plain": [
              "               column    type\n",
              "0           longitude  double\n",
              "1            latitude  double\n",
              "2  housing_median_age  double\n",
              "3         total_rooms  double\n",
              "4      total_bedrooms  double\n",
              "5          population  double\n",
              "6          households  double\n",
              "7       median_income  double\n",
              "8  median_house_value  double\n",
              "9     ocean_proximity  string"
            ],
            "text/html": [
              "\n",
              "  <div id=\"df-33654f63-9525-4aae-a72f-202e4352bc85\" class=\"colab-df-container\">\n",
              "    <div>\n",
              "<style scoped>\n",
              "    .dataframe tbody tr th:only-of-type {\n",
              "        vertical-align: middle;\n",
              "    }\n",
              "\n",
              "    .dataframe tbody tr th {\n",
              "        vertical-align: top;\n",
              "    }\n",
              "\n",
              "    .dataframe thead th {\n",
              "        text-align: right;\n",
              "    }\n",
              "</style>\n",
              "<table border=\"1\" class=\"dataframe\">\n",
              "  <thead>\n",
              "    <tr style=\"text-align: right;\">\n",
              "      <th></th>\n",
              "      <th>column</th>\n",
              "      <th>type</th>\n",
              "    </tr>\n",
              "  </thead>\n",
              "  <tbody>\n",
              "    <tr>\n",
              "      <th>0</th>\n",
              "      <td>longitude</td>\n",
              "      <td>double</td>\n",
              "    </tr>\n",
              "    <tr>\n",
              "      <th>1</th>\n",
              "      <td>latitude</td>\n",
              "      <td>double</td>\n",
              "    </tr>\n",
              "    <tr>\n",
              "      <th>2</th>\n",
              "      <td>housing_median_age</td>\n",
              "      <td>double</td>\n",
              "    </tr>\n",
              "    <tr>\n",
              "      <th>3</th>\n",
              "      <td>total_rooms</td>\n",
              "      <td>double</td>\n",
              "    </tr>\n",
              "    <tr>\n",
              "      <th>4</th>\n",
              "      <td>total_bedrooms</td>\n",
              "      <td>double</td>\n",
              "    </tr>\n",
              "    <tr>\n",
              "      <th>5</th>\n",
              "      <td>population</td>\n",
              "      <td>double</td>\n",
              "    </tr>\n",
              "    <tr>\n",
              "      <th>6</th>\n",
              "      <td>households</td>\n",
              "      <td>double</td>\n",
              "    </tr>\n",
              "    <tr>\n",
              "      <th>7</th>\n",
              "      <td>median_income</td>\n",
              "      <td>double</td>\n",
              "    </tr>\n",
              "    <tr>\n",
              "      <th>8</th>\n",
              "      <td>median_house_value</td>\n",
              "      <td>double</td>\n",
              "    </tr>\n",
              "    <tr>\n",
              "      <th>9</th>\n",
              "      <td>ocean_proximity</td>\n",
              "      <td>string</td>\n",
              "    </tr>\n",
              "  </tbody>\n",
              "</table>\n",
              "</div>\n",
              "    <div class=\"colab-df-buttons\">\n",
              "\n",
              "  <div class=\"colab-df-container\">\n",
              "    <button class=\"colab-df-convert\" onclick=\"convertToInteractive('df-33654f63-9525-4aae-a72f-202e4352bc85')\"\n",
              "            title=\"Convert this dataframe to an interactive table.\"\n",
              "            style=\"display:none;\">\n",
              "\n",
              "  <svg xmlns=\"http://www.w3.org/2000/svg\" height=\"24px\" viewBox=\"0 -960 960 960\">\n",
              "    <path d=\"M120-120v-720h720v720H120Zm60-500h600v-160H180v160Zm220 220h160v-160H400v160Zm0 220h160v-160H400v160ZM180-400h160v-160H180v160Zm440 0h160v-160H620v160ZM180-180h160v-160H180v160Zm440 0h160v-160H620v160Z\"/>\n",
              "  </svg>\n",
              "    </button>\n",
              "\n",
              "  <style>\n",
              "    .colab-df-container {\n",
              "      display:flex;\n",
              "      gap: 12px;\n",
              "    }\n",
              "\n",
              "    .colab-df-convert {\n",
              "      background-color: #E8F0FE;\n",
              "      border: none;\n",
              "      border-radius: 50%;\n",
              "      cursor: pointer;\n",
              "      display: none;\n",
              "      fill: #1967D2;\n",
              "      height: 32px;\n",
              "      padding: 0 0 0 0;\n",
              "      width: 32px;\n",
              "    }\n",
              "\n",
              "    .colab-df-convert:hover {\n",
              "      background-color: #E2EBFA;\n",
              "      box-shadow: 0px 1px 2px rgba(60, 64, 67, 0.3), 0px 1px 3px 1px rgba(60, 64, 67, 0.15);\n",
              "      fill: #174EA6;\n",
              "    }\n",
              "\n",
              "    .colab-df-buttons div {\n",
              "      margin-bottom: 4px;\n",
              "    }\n",
              "\n",
              "    [theme=dark] .colab-df-convert {\n",
              "      background-color: #3B4455;\n",
              "      fill: #D2E3FC;\n",
              "    }\n",
              "\n",
              "    [theme=dark] .colab-df-convert:hover {\n",
              "      background-color: #434B5C;\n",
              "      box-shadow: 0px 1px 3px 1px rgba(0, 0, 0, 0.15);\n",
              "      filter: drop-shadow(0px 1px 2px rgba(0, 0, 0, 0.3));\n",
              "      fill: #FFFFFF;\n",
              "    }\n",
              "  </style>\n",
              "\n",
              "    <script>\n",
              "      const buttonEl =\n",
              "        document.querySelector('#df-33654f63-9525-4aae-a72f-202e4352bc85 button.colab-df-convert');\n",
              "      buttonEl.style.display =\n",
              "        google.colab.kernel.accessAllowed ? 'block' : 'none';\n",
              "\n",
              "      async function convertToInteractive(key) {\n",
              "        const element = document.querySelector('#df-33654f63-9525-4aae-a72f-202e4352bc85');\n",
              "        const dataTable =\n",
              "          await google.colab.kernel.invokeFunction('convertToInteractive',\n",
              "                                                    [key], {});\n",
              "        if (!dataTable) return;\n",
              "\n",
              "        const docLinkHtml = 'Like what you see? Visit the ' +\n",
              "          '<a target=\"_blank\" href=https://colab.research.google.com/notebooks/data_table.ipynb>data table notebook</a>'\n",
              "          + ' to learn more about interactive tables.';\n",
              "        element.innerHTML = '';\n",
              "        dataTable['output_type'] = 'display_data';\n",
              "        await google.colab.output.renderOutput(dataTable, element);\n",
              "        const docLink = document.createElement('div');\n",
              "        docLink.innerHTML = docLinkHtml;\n",
              "        element.appendChild(docLink);\n",
              "      }\n",
              "    </script>\n",
              "  </div>\n",
              "\n",
              "\n",
              "<div id=\"df-6f32e4bd-3efb-40f1-bdcf-7b2d280dce1b\">\n",
              "  <button class=\"colab-df-quickchart\" onclick=\"quickchart('df-6f32e4bd-3efb-40f1-bdcf-7b2d280dce1b')\"\n",
              "            title=\"Suggest charts\"\n",
              "            style=\"display:none;\">\n",
              "\n",
              "<svg xmlns=\"http://www.w3.org/2000/svg\" height=\"24px\"viewBox=\"0 0 24 24\"\n",
              "     width=\"24px\">\n",
              "    <g>\n",
              "        <path d=\"M19 3H5c-1.1 0-2 .9-2 2v14c0 1.1.9 2 2 2h14c1.1 0 2-.9 2-2V5c0-1.1-.9-2-2-2zM9 17H7v-7h2v7zm4 0h-2V7h2v10zm4 0h-2v-4h2v4z\"/>\n",
              "    </g>\n",
              "</svg>\n",
              "  </button>\n",
              "\n",
              "<style>\n",
              "  .colab-df-quickchart {\n",
              "      --bg-color: #E8F0FE;\n",
              "      --fill-color: #1967D2;\n",
              "      --hover-bg-color: #E2EBFA;\n",
              "      --hover-fill-color: #174EA6;\n",
              "      --disabled-fill-color: #AAA;\n",
              "      --disabled-bg-color: #DDD;\n",
              "  }\n",
              "\n",
              "  [theme=dark] .colab-df-quickchart {\n",
              "      --bg-color: #3B4455;\n",
              "      --fill-color: #D2E3FC;\n",
              "      --hover-bg-color: #434B5C;\n",
              "      --hover-fill-color: #FFFFFF;\n",
              "      --disabled-bg-color: #3B4455;\n",
              "      --disabled-fill-color: #666;\n",
              "  }\n",
              "\n",
              "  .colab-df-quickchart {\n",
              "    background-color: var(--bg-color);\n",
              "    border: none;\n",
              "    border-radius: 50%;\n",
              "    cursor: pointer;\n",
              "    display: none;\n",
              "    fill: var(--fill-color);\n",
              "    height: 32px;\n",
              "    padding: 0;\n",
              "    width: 32px;\n",
              "  }\n",
              "\n",
              "  .colab-df-quickchart:hover {\n",
              "    background-color: var(--hover-bg-color);\n",
              "    box-shadow: 0 1px 2px rgba(60, 64, 67, 0.3), 0 1px 3px 1px rgba(60, 64, 67, 0.15);\n",
              "    fill: var(--button-hover-fill-color);\n",
              "  }\n",
              "\n",
              "  .colab-df-quickchart-complete:disabled,\n",
              "  .colab-df-quickchart-complete:disabled:hover {\n",
              "    background-color: var(--disabled-bg-color);\n",
              "    fill: var(--disabled-fill-color);\n",
              "    box-shadow: none;\n",
              "  }\n",
              "\n",
              "  .colab-df-spinner {\n",
              "    border: 2px solid var(--fill-color);\n",
              "    border-color: transparent;\n",
              "    border-bottom-color: var(--fill-color);\n",
              "    animation:\n",
              "      spin 1s steps(1) infinite;\n",
              "  }\n",
              "\n",
              "  @keyframes spin {\n",
              "    0% {\n",
              "      border-color: transparent;\n",
              "      border-bottom-color: var(--fill-color);\n",
              "      border-left-color: var(--fill-color);\n",
              "    }\n",
              "    20% {\n",
              "      border-color: transparent;\n",
              "      border-left-color: var(--fill-color);\n",
              "      border-top-color: var(--fill-color);\n",
              "    }\n",
              "    30% {\n",
              "      border-color: transparent;\n",
              "      border-left-color: var(--fill-color);\n",
              "      border-top-color: var(--fill-color);\n",
              "      border-right-color: var(--fill-color);\n",
              "    }\n",
              "    40% {\n",
              "      border-color: transparent;\n",
              "      border-right-color: var(--fill-color);\n",
              "      border-top-color: var(--fill-color);\n",
              "    }\n",
              "    60% {\n",
              "      border-color: transparent;\n",
              "      border-right-color: var(--fill-color);\n",
              "    }\n",
              "    80% {\n",
              "      border-color: transparent;\n",
              "      border-right-color: var(--fill-color);\n",
              "      border-bottom-color: var(--fill-color);\n",
              "    }\n",
              "    90% {\n",
              "      border-color: transparent;\n",
              "      border-bottom-color: var(--fill-color);\n",
              "    }\n",
              "  }\n",
              "</style>\n",
              "\n",
              "  <script>\n",
              "    async function quickchart(key) {\n",
              "      const quickchartButtonEl =\n",
              "        document.querySelector('#' + key + ' button');\n",
              "      quickchartButtonEl.disabled = true;  // To prevent multiple clicks.\n",
              "      quickchartButtonEl.classList.add('colab-df-spinner');\n",
              "      try {\n",
              "        const charts = await google.colab.kernel.invokeFunction(\n",
              "            'suggestCharts', [key], {});\n",
              "      } catch (error) {\n",
              "        console.error('Error during call to suggestCharts:', error);\n",
              "      }\n",
              "      quickchartButtonEl.classList.remove('colab-df-spinner');\n",
              "      quickchartButtonEl.classList.add('colab-df-quickchart-complete');\n",
              "    }\n",
              "    (() => {\n",
              "      let quickchartButtonEl =\n",
              "        document.querySelector('#df-6f32e4bd-3efb-40f1-bdcf-7b2d280dce1b button');\n",
              "      quickchartButtonEl.style.display =\n",
              "        google.colab.kernel.accessAllowed ? 'block' : 'none';\n",
              "    })();\n",
              "  </script>\n",
              "</div>\n",
              "    </div>\n",
              "  </div>\n"
            ],
            "application/vnd.google.colaboratory.intrinsic+json": {
              "type": "dataframe",
              "summary": "{\n  \"name\": \"pd\",\n  \"rows\": 10,\n  \"fields\": [\n    {\n      \"column\": \"column\",\n      \"properties\": {\n        \"dtype\": \"string\",\n        \"num_unique_values\": 10,\n        \"samples\": [\n          \"median_house_value\",\n          \"latitude\",\n          \"population\"\n        ],\n        \"semantic_type\": \"\",\n        \"description\": \"\"\n      }\n    },\n    {\n      \"column\": \"type\",\n      \"properties\": {\n        \"dtype\": \"category\",\n        \"num_unique_values\": 2,\n        \"samples\": [\n          \"string\",\n          \"double\"\n        ],\n        \"semantic_type\": \"\",\n        \"description\": \"\"\n      }\n    }\n  ]\n}"
            }
          },
          "metadata": {},
          "execution_count": 5
        }
      ]
    },
    {
      "cell_type": "markdown",
      "source": [
        "Ознакомимся с первыми 10 строками данных."
      ],
      "metadata": {
        "id": "xt5ebYwLsWeX"
      },
      "id": "xt5ebYwLsWeX"
    },
    {
      "cell_type": "code",
      "source": [
        "df.show(10) # Показываем первые 10 строк DataFrame для предварительного просмотра данных."
      ],
      "metadata": {
        "colab": {
          "base_uri": "https://localhost:8080/"
        },
        "id": "TyWi6PeXsXy3",
        "outputId": "8144e9d9-baa2-4781-a7ba-cd33b2a7822d"
      },
      "id": "TyWi6PeXsXy3",
      "execution_count": 6,
      "outputs": [
        {
          "output_type": "stream",
          "name": "stdout",
          "text": [
            "+---------+--------+------------------+-----------+--------------+----------+----------+-------------+------------------+---------------+\n",
            "|longitude|latitude|housing_median_age|total_rooms|total_bedrooms|population|households|median_income|median_house_value|ocean_proximity|\n",
            "+---------+--------+------------------+-----------+--------------+----------+----------+-------------+------------------+---------------+\n",
            "|  -122.23|   37.88|              41.0|      880.0|         129.0|     322.0|     126.0|       8.3252|          452600.0|       NEAR BAY|\n",
            "|  -122.22|   37.86|              21.0|     7099.0|        1106.0|    2401.0|    1138.0|       8.3014|          358500.0|       NEAR BAY|\n",
            "|  -122.24|   37.85|              52.0|     1467.0|         190.0|     496.0|     177.0|       7.2574|          352100.0|       NEAR BAY|\n",
            "|  -122.25|   37.85|              52.0|     1274.0|         235.0|     558.0|     219.0|       5.6431|          341300.0|       NEAR BAY|\n",
            "|  -122.25|   37.85|              52.0|     1627.0|         280.0|     565.0|     259.0|       3.8462|          342200.0|       NEAR BAY|\n",
            "|  -122.25|   37.85|              52.0|      919.0|         213.0|     413.0|     193.0|       4.0368|          269700.0|       NEAR BAY|\n",
            "|  -122.25|   37.84|              52.0|     2535.0|         489.0|    1094.0|     514.0|       3.6591|          299200.0|       NEAR BAY|\n",
            "|  -122.25|   37.84|              52.0|     3104.0|         687.0|    1157.0|     647.0|         3.12|          241400.0|       NEAR BAY|\n",
            "|  -122.26|   37.84|              42.0|     2555.0|         665.0|    1206.0|     595.0|       2.0804|          226700.0|       NEAR BAY|\n",
            "|  -122.25|   37.84|              52.0|     3549.0|         707.0|    1551.0|     714.0|       3.6912|          261100.0|       NEAR BAY|\n",
            "+---------+--------+------------------+-----------+--------------+----------+----------+-------------+------------------+---------------+\n",
            "only showing top 10 rows\n",
            "\n"
          ]
        }
      ]
    },
    {
      "cell_type": "markdown",
      "source": [
        "Посмотрим статистику по данным."
      ],
      "metadata": {
        "id": "EYXSWL8hszm2"
      },
      "id": "EYXSWL8hszm2"
    },
    {
      "cell_type": "code",
      "source": [
        "df.describe().toPandas() # Получаем статистическое описание данных и преобразуем его в DataFrame pandas."
      ],
      "metadata": {
        "colab": {
          "base_uri": "https://localhost:8080/",
          "height": 226
        },
        "id": "3zFbuxoys0wv",
        "outputId": "36f331a1-8575-42e9-f196-8cdf51278c94"
      },
      "id": "3zFbuxoys0wv",
      "execution_count": 7,
      "outputs": [
        {
          "output_type": "execute_result",
          "data": {
            "text/plain": [
              "  summary            longitude           latitude  housing_median_age  \\\n",
              "0   count                20640              20640               20640   \n",
              "1    mean  -119.56970445736148   35.6318614341087  28.639486434108527   \n",
              "2  stddev    2.003531723502584  2.135952397457101   12.58555761211163   \n",
              "3     min              -124.35              32.54                 1.0   \n",
              "4     max              -114.31              41.95                52.0   \n",
              "\n",
              "          total_rooms      total_bedrooms          population  \\\n",
              "0               20640               20433               20640   \n",
              "1  2635.7630813953488   537.8705525375618  1425.4767441860465   \n",
              "2  2181.6152515827944  421.38507007403115    1132.46212176534   \n",
              "3                 2.0                 1.0                 3.0   \n",
              "4             39320.0              6445.0             35682.0   \n",
              "\n",
              "          households       median_income  median_house_value ocean_proximity  \n",
              "0              20640               20640               20640           20640  \n",
              "1  499.5396802325581  3.8706710029070246  206855.81690891474            None  \n",
              "2  382.3297528316098   1.899821717945263  115395.61587441359            None  \n",
              "3                1.0              0.4999             14999.0       <1H OCEAN  \n",
              "4             6082.0             15.0001            500001.0      NEAR OCEAN  "
            ],
            "text/html": [
              "\n",
              "  <div id=\"df-ef9310f1-ef89-4d15-b073-390368e4655d\" class=\"colab-df-container\">\n",
              "    <div>\n",
              "<style scoped>\n",
              "    .dataframe tbody tr th:only-of-type {\n",
              "        vertical-align: middle;\n",
              "    }\n",
              "\n",
              "    .dataframe tbody tr th {\n",
              "        vertical-align: top;\n",
              "    }\n",
              "\n",
              "    .dataframe thead th {\n",
              "        text-align: right;\n",
              "    }\n",
              "</style>\n",
              "<table border=\"1\" class=\"dataframe\">\n",
              "  <thead>\n",
              "    <tr style=\"text-align: right;\">\n",
              "      <th></th>\n",
              "      <th>summary</th>\n",
              "      <th>longitude</th>\n",
              "      <th>latitude</th>\n",
              "      <th>housing_median_age</th>\n",
              "      <th>total_rooms</th>\n",
              "      <th>total_bedrooms</th>\n",
              "      <th>population</th>\n",
              "      <th>households</th>\n",
              "      <th>median_income</th>\n",
              "      <th>median_house_value</th>\n",
              "      <th>ocean_proximity</th>\n",
              "    </tr>\n",
              "  </thead>\n",
              "  <tbody>\n",
              "    <tr>\n",
              "      <th>0</th>\n",
              "      <td>count</td>\n",
              "      <td>20640</td>\n",
              "      <td>20640</td>\n",
              "      <td>20640</td>\n",
              "      <td>20640</td>\n",
              "      <td>20433</td>\n",
              "      <td>20640</td>\n",
              "      <td>20640</td>\n",
              "      <td>20640</td>\n",
              "      <td>20640</td>\n",
              "      <td>20640</td>\n",
              "    </tr>\n",
              "    <tr>\n",
              "      <th>1</th>\n",
              "      <td>mean</td>\n",
              "      <td>-119.56970445736148</td>\n",
              "      <td>35.6318614341087</td>\n",
              "      <td>28.639486434108527</td>\n",
              "      <td>2635.7630813953488</td>\n",
              "      <td>537.8705525375618</td>\n",
              "      <td>1425.4767441860465</td>\n",
              "      <td>499.5396802325581</td>\n",
              "      <td>3.8706710029070246</td>\n",
              "      <td>206855.81690891474</td>\n",
              "      <td>None</td>\n",
              "    </tr>\n",
              "    <tr>\n",
              "      <th>2</th>\n",
              "      <td>stddev</td>\n",
              "      <td>2.003531723502584</td>\n",
              "      <td>2.135952397457101</td>\n",
              "      <td>12.58555761211163</td>\n",
              "      <td>2181.6152515827944</td>\n",
              "      <td>421.38507007403115</td>\n",
              "      <td>1132.46212176534</td>\n",
              "      <td>382.3297528316098</td>\n",
              "      <td>1.899821717945263</td>\n",
              "      <td>115395.61587441359</td>\n",
              "      <td>None</td>\n",
              "    </tr>\n",
              "    <tr>\n",
              "      <th>3</th>\n",
              "      <td>min</td>\n",
              "      <td>-124.35</td>\n",
              "      <td>32.54</td>\n",
              "      <td>1.0</td>\n",
              "      <td>2.0</td>\n",
              "      <td>1.0</td>\n",
              "      <td>3.0</td>\n",
              "      <td>1.0</td>\n",
              "      <td>0.4999</td>\n",
              "      <td>14999.0</td>\n",
              "      <td>&lt;1H OCEAN</td>\n",
              "    </tr>\n",
              "    <tr>\n",
              "      <th>4</th>\n",
              "      <td>max</td>\n",
              "      <td>-114.31</td>\n",
              "      <td>41.95</td>\n",
              "      <td>52.0</td>\n",
              "      <td>39320.0</td>\n",
              "      <td>6445.0</td>\n",
              "      <td>35682.0</td>\n",
              "      <td>6082.0</td>\n",
              "      <td>15.0001</td>\n",
              "      <td>500001.0</td>\n",
              "      <td>NEAR OCEAN</td>\n",
              "    </tr>\n",
              "  </tbody>\n",
              "</table>\n",
              "</div>\n",
              "    <div class=\"colab-df-buttons\">\n",
              "\n",
              "  <div class=\"colab-df-container\">\n",
              "    <button class=\"colab-df-convert\" onclick=\"convertToInteractive('df-ef9310f1-ef89-4d15-b073-390368e4655d')\"\n",
              "            title=\"Convert this dataframe to an interactive table.\"\n",
              "            style=\"display:none;\">\n",
              "\n",
              "  <svg xmlns=\"http://www.w3.org/2000/svg\" height=\"24px\" viewBox=\"0 -960 960 960\">\n",
              "    <path d=\"M120-120v-720h720v720H120Zm60-500h600v-160H180v160Zm220 220h160v-160H400v160Zm0 220h160v-160H400v160ZM180-400h160v-160H180v160Zm440 0h160v-160H620v160ZM180-180h160v-160H180v160Zm440 0h160v-160H620v160Z\"/>\n",
              "  </svg>\n",
              "    </button>\n",
              "\n",
              "  <style>\n",
              "    .colab-df-container {\n",
              "      display:flex;\n",
              "      gap: 12px;\n",
              "    }\n",
              "\n",
              "    .colab-df-convert {\n",
              "      background-color: #E8F0FE;\n",
              "      border: none;\n",
              "      border-radius: 50%;\n",
              "      cursor: pointer;\n",
              "      display: none;\n",
              "      fill: #1967D2;\n",
              "      height: 32px;\n",
              "      padding: 0 0 0 0;\n",
              "      width: 32px;\n",
              "    }\n",
              "\n",
              "    .colab-df-convert:hover {\n",
              "      background-color: #E2EBFA;\n",
              "      box-shadow: 0px 1px 2px rgba(60, 64, 67, 0.3), 0px 1px 3px 1px rgba(60, 64, 67, 0.15);\n",
              "      fill: #174EA6;\n",
              "    }\n",
              "\n",
              "    .colab-df-buttons div {\n",
              "      margin-bottom: 4px;\n",
              "    }\n",
              "\n",
              "    [theme=dark] .colab-df-convert {\n",
              "      background-color: #3B4455;\n",
              "      fill: #D2E3FC;\n",
              "    }\n",
              "\n",
              "    [theme=dark] .colab-df-convert:hover {\n",
              "      background-color: #434B5C;\n",
              "      box-shadow: 0px 1px 3px 1px rgba(0, 0, 0, 0.15);\n",
              "      filter: drop-shadow(0px 1px 2px rgba(0, 0, 0, 0.3));\n",
              "      fill: #FFFFFF;\n",
              "    }\n",
              "  </style>\n",
              "\n",
              "    <script>\n",
              "      const buttonEl =\n",
              "        document.querySelector('#df-ef9310f1-ef89-4d15-b073-390368e4655d button.colab-df-convert');\n",
              "      buttonEl.style.display =\n",
              "        google.colab.kernel.accessAllowed ? 'block' : 'none';\n",
              "\n",
              "      async function convertToInteractive(key) {\n",
              "        const element = document.querySelector('#df-ef9310f1-ef89-4d15-b073-390368e4655d');\n",
              "        const dataTable =\n",
              "          await google.colab.kernel.invokeFunction('convertToInteractive',\n",
              "                                                    [key], {});\n",
              "        if (!dataTable) return;\n",
              "\n",
              "        const docLinkHtml = 'Like what you see? Visit the ' +\n",
              "          '<a target=\"_blank\" href=https://colab.research.google.com/notebooks/data_table.ipynb>data table notebook</a>'\n",
              "          + ' to learn more about interactive tables.';\n",
              "        element.innerHTML = '';\n",
              "        dataTable['output_type'] = 'display_data';\n",
              "        await google.colab.output.renderOutput(dataTable, element);\n",
              "        const docLink = document.createElement('div');\n",
              "        docLink.innerHTML = docLinkHtml;\n",
              "        element.appendChild(docLink);\n",
              "      }\n",
              "    </script>\n",
              "  </div>\n",
              "\n",
              "\n",
              "<div id=\"df-c1b0d491-75d2-4a1a-af30-a0f74a12d5a5\">\n",
              "  <button class=\"colab-df-quickchart\" onclick=\"quickchart('df-c1b0d491-75d2-4a1a-af30-a0f74a12d5a5')\"\n",
              "            title=\"Suggest charts\"\n",
              "            style=\"display:none;\">\n",
              "\n",
              "<svg xmlns=\"http://www.w3.org/2000/svg\" height=\"24px\"viewBox=\"0 0 24 24\"\n",
              "     width=\"24px\">\n",
              "    <g>\n",
              "        <path d=\"M19 3H5c-1.1 0-2 .9-2 2v14c0 1.1.9 2 2 2h14c1.1 0 2-.9 2-2V5c0-1.1-.9-2-2-2zM9 17H7v-7h2v7zm4 0h-2V7h2v10zm4 0h-2v-4h2v4z\"/>\n",
              "    </g>\n",
              "</svg>\n",
              "  </button>\n",
              "\n",
              "<style>\n",
              "  .colab-df-quickchart {\n",
              "      --bg-color: #E8F0FE;\n",
              "      --fill-color: #1967D2;\n",
              "      --hover-bg-color: #E2EBFA;\n",
              "      --hover-fill-color: #174EA6;\n",
              "      --disabled-fill-color: #AAA;\n",
              "      --disabled-bg-color: #DDD;\n",
              "  }\n",
              "\n",
              "  [theme=dark] .colab-df-quickchart {\n",
              "      --bg-color: #3B4455;\n",
              "      --fill-color: #D2E3FC;\n",
              "      --hover-bg-color: #434B5C;\n",
              "      --hover-fill-color: #FFFFFF;\n",
              "      --disabled-bg-color: #3B4455;\n",
              "      --disabled-fill-color: #666;\n",
              "  }\n",
              "\n",
              "  .colab-df-quickchart {\n",
              "    background-color: var(--bg-color);\n",
              "    border: none;\n",
              "    border-radius: 50%;\n",
              "    cursor: pointer;\n",
              "    display: none;\n",
              "    fill: var(--fill-color);\n",
              "    height: 32px;\n",
              "    padding: 0;\n",
              "    width: 32px;\n",
              "  }\n",
              "\n",
              "  .colab-df-quickchart:hover {\n",
              "    background-color: var(--hover-bg-color);\n",
              "    box-shadow: 0 1px 2px rgba(60, 64, 67, 0.3), 0 1px 3px 1px rgba(60, 64, 67, 0.15);\n",
              "    fill: var(--button-hover-fill-color);\n",
              "  }\n",
              "\n",
              "  .colab-df-quickchart-complete:disabled,\n",
              "  .colab-df-quickchart-complete:disabled:hover {\n",
              "    background-color: var(--disabled-bg-color);\n",
              "    fill: var(--disabled-fill-color);\n",
              "    box-shadow: none;\n",
              "  }\n",
              "\n",
              "  .colab-df-spinner {\n",
              "    border: 2px solid var(--fill-color);\n",
              "    border-color: transparent;\n",
              "    border-bottom-color: var(--fill-color);\n",
              "    animation:\n",
              "      spin 1s steps(1) infinite;\n",
              "  }\n",
              "\n",
              "  @keyframes spin {\n",
              "    0% {\n",
              "      border-color: transparent;\n",
              "      border-bottom-color: var(--fill-color);\n",
              "      border-left-color: var(--fill-color);\n",
              "    }\n",
              "    20% {\n",
              "      border-color: transparent;\n",
              "      border-left-color: var(--fill-color);\n",
              "      border-top-color: var(--fill-color);\n",
              "    }\n",
              "    30% {\n",
              "      border-color: transparent;\n",
              "      border-left-color: var(--fill-color);\n",
              "      border-top-color: var(--fill-color);\n",
              "      border-right-color: var(--fill-color);\n",
              "    }\n",
              "    40% {\n",
              "      border-color: transparent;\n",
              "      border-right-color: var(--fill-color);\n",
              "      border-top-color: var(--fill-color);\n",
              "    }\n",
              "    60% {\n",
              "      border-color: transparent;\n",
              "      border-right-color: var(--fill-color);\n",
              "    }\n",
              "    80% {\n",
              "      border-color: transparent;\n",
              "      border-right-color: var(--fill-color);\n",
              "      border-bottom-color: var(--fill-color);\n",
              "    }\n",
              "    90% {\n",
              "      border-color: transparent;\n",
              "      border-bottom-color: var(--fill-color);\n",
              "    }\n",
              "  }\n",
              "</style>\n",
              "\n",
              "  <script>\n",
              "    async function quickchart(key) {\n",
              "      const quickchartButtonEl =\n",
              "        document.querySelector('#' + key + ' button');\n",
              "      quickchartButtonEl.disabled = true;  // To prevent multiple clicks.\n",
              "      quickchartButtonEl.classList.add('colab-df-spinner');\n",
              "      try {\n",
              "        const charts = await google.colab.kernel.invokeFunction(\n",
              "            'suggestCharts', [key], {});\n",
              "      } catch (error) {\n",
              "        console.error('Error during call to suggestCharts:', error);\n",
              "      }\n",
              "      quickchartButtonEl.classList.remove('colab-df-spinner');\n",
              "      quickchartButtonEl.classList.add('colab-df-quickchart-complete');\n",
              "    }\n",
              "    (() => {\n",
              "      let quickchartButtonEl =\n",
              "        document.querySelector('#df-c1b0d491-75d2-4a1a-af30-a0f74a12d5a5 button');\n",
              "      quickchartButtonEl.style.display =\n",
              "        google.colab.kernel.accessAllowed ? 'block' : 'none';\n",
              "    })();\n",
              "  </script>\n",
              "</div>\n",
              "    </div>\n",
              "  </div>\n"
            ],
            "application/vnd.google.colaboratory.intrinsic+json": {
              "type": "dataframe",
              "summary": "{\n  \"name\": \"df\",\n  \"rows\": 5,\n  \"fields\": [\n    {\n      \"column\": \"summary\",\n      \"properties\": {\n        \"dtype\": \"string\",\n        \"num_unique_values\": 5,\n        \"samples\": [\n          \"mean\",\n          \"max\",\n          \"stddev\"\n        ],\n        \"semantic_type\": \"\",\n        \"description\": \"\"\n      }\n    },\n    {\n      \"column\": \"longitude\",\n      \"properties\": {\n        \"dtype\": \"string\",\n        \"num_unique_values\": 5,\n        \"samples\": [\n          \"-119.56970445736148\",\n          \"-114.31\",\n          \"2.003531723502584\"\n        ],\n        \"semantic_type\": \"\",\n        \"description\": \"\"\n      }\n    },\n    {\n      \"column\": \"latitude\",\n      \"properties\": {\n        \"dtype\": \"string\",\n        \"num_unique_values\": 5,\n        \"samples\": [\n          \"35.6318614341087\",\n          \"41.95\",\n          \"2.135952397457101\"\n        ],\n        \"semantic_type\": \"\",\n        \"description\": \"\"\n      }\n    },\n    {\n      \"column\": \"housing_median_age\",\n      \"properties\": {\n        \"dtype\": \"string\",\n        \"num_unique_values\": 5,\n        \"samples\": [\n          \"28.639486434108527\",\n          \"52.0\",\n          \"12.58555761211163\"\n        ],\n        \"semantic_type\": \"\",\n        \"description\": \"\"\n      }\n    },\n    {\n      \"column\": \"total_rooms\",\n      \"properties\": {\n        \"dtype\": \"string\",\n        \"num_unique_values\": 5,\n        \"samples\": [\n          \"2635.7630813953488\",\n          \"39320.0\",\n          \"2181.6152515827944\"\n        ],\n        \"semantic_type\": \"\",\n        \"description\": \"\"\n      }\n    },\n    {\n      \"column\": \"total_bedrooms\",\n      \"properties\": {\n        \"dtype\": \"string\",\n        \"num_unique_values\": 5,\n        \"samples\": [\n          \"537.8705525375618\",\n          \"6445.0\",\n          \"421.38507007403115\"\n        ],\n        \"semantic_type\": \"\",\n        \"description\": \"\"\n      }\n    },\n    {\n      \"column\": \"population\",\n      \"properties\": {\n        \"dtype\": \"string\",\n        \"num_unique_values\": 5,\n        \"samples\": [\n          \"1425.4767441860465\",\n          \"35682.0\",\n          \"1132.46212176534\"\n        ],\n        \"semantic_type\": \"\",\n        \"description\": \"\"\n      }\n    },\n    {\n      \"column\": \"households\",\n      \"properties\": {\n        \"dtype\": \"string\",\n        \"num_unique_values\": 5,\n        \"samples\": [\n          \"499.5396802325581\",\n          \"6082.0\",\n          \"382.3297528316098\"\n        ],\n        \"semantic_type\": \"\",\n        \"description\": \"\"\n      }\n    },\n    {\n      \"column\": \"median_income\",\n      \"properties\": {\n        \"dtype\": \"string\",\n        \"num_unique_values\": 5,\n        \"samples\": [\n          \"3.8706710029070246\",\n          \"15.0001\",\n          \"1.899821717945263\"\n        ],\n        \"semantic_type\": \"\",\n        \"description\": \"\"\n      }\n    },\n    {\n      \"column\": \"median_house_value\",\n      \"properties\": {\n        \"dtype\": \"string\",\n        \"num_unique_values\": 5,\n        \"samples\": [\n          \"206855.81690891474\",\n          \"500001.0\",\n          \"115395.61587441359\"\n        ],\n        \"semantic_type\": \"\",\n        \"description\": \"\"\n      }\n    },\n    {\n      \"column\": \"ocean_proximity\",\n      \"properties\": {\n        \"dtype\": \"string\",\n        \"num_unique_values\": 3,\n        \"samples\": [\n          \"20640\",\n          \"<1H OCEAN\",\n          \"NEAR OCEAN\"\n        ],\n        \"semantic_type\": \"\",\n        \"description\": \"\"\n      }\n    }\n  ]\n}"
            }
          },
          "metadata": {},
          "execution_count": 7
        }
      ]
    },
    {
      "cell_type": "markdown",
      "source": [
        "####Выводы\n",
        "Мы инициализировали сессию Spark, загрузили библиотеки и данные, провели осмотр данных."
      ],
      "metadata": {
        "id": "tebGjf7_teyC"
      },
      "id": "tebGjf7_teyC"
    },
    {
      "cell_type": "markdown",
      "id": "53871372",
      "metadata": {
        "id": "53871372"
      },
      "source": [
        "## Подготовка данных\n"
      ]
    },
    {
      "cell_type": "markdown",
      "source": [
        "Исследуем данные на наличие пропусков."
      ],
      "metadata": {
        "id": "-0ZHIPJTuBCK"
      },
      "id": "-0ZHIPJTuBCK"
    },
    {
      "cell_type": "code",
      "source": [
        "# Считаем количество пропущенных значений в каждом столбце и выводим результат.\n",
        "df.select([F.count(F.when(F.isnan(c) | F.col(c).isNull(), c)).alias(c) for c in df.columns]).show()"
      ],
      "metadata": {
        "colab": {
          "base_uri": "https://localhost:8080/"
        },
        "id": "Z1BcRW_RuDFj",
        "outputId": "c19cf548-ca50-4810-ec0b-a3b5d96443be"
      },
      "id": "Z1BcRW_RuDFj",
      "execution_count": 8,
      "outputs": [
        {
          "output_type": "stream",
          "name": "stdout",
          "text": [
            "+---------+--------+------------------+-----------+--------------+----------+----------+-------------+------------------+---------------+\n",
            "|longitude|latitude|housing_median_age|total_rooms|total_bedrooms|population|households|median_income|median_house_value|ocean_proximity|\n",
            "+---------+--------+------------------+-----------+--------------+----------+----------+-------------+------------------+---------------+\n",
            "|        0|       0|                 0|          0|           207|         0|         0|            0|                 0|              0|\n",
            "+---------+--------+------------------+-----------+--------------+----------+----------+-------------+------------------+---------------+\n",
            "\n"
          ]
        }
      ]
    },
    {
      "cell_type": "markdown",
      "source": [
        "Заполним их медианными значениями."
      ],
      "metadata": {
        "id": "iC3gpcrdvaYR"
      },
      "id": "iC3gpcrdvaYR"
    },
    {
      "cell_type": "code",
      "source": [
        "imputer = Imputer(strategy='median', inputCols=['total_bedrooms'], outputCols=['total_bedrooms']) # Создаем объект Imputer\n",
        "# для заполнения пропусков медианой в столбце 'total_bedrooms'.\n",
        "df = imputer.fit(df).transform(df) # Обучаем Imputer на данных и применяем его для заполнения пропусков."
      ],
      "metadata": {
        "id": "TIHxQdxYvdnO"
      },
      "id": "TIHxQdxYvdnO",
      "execution_count": 9,
      "outputs": []
    },
    {
      "cell_type": "markdown",
      "source": [
        "Проверим статистику."
      ],
      "metadata": {
        "id": "MRUPUP4BwZQJ"
      },
      "id": "MRUPUP4BwZQJ"
    },
    {
      "cell_type": "code",
      "source": [
        "df.describe().toPandas() # Снова получаем статистическое описание данных после обработки пропусков."
      ],
      "metadata": {
        "colab": {
          "base_uri": "https://localhost:8080/",
          "height": 226
        },
        "id": "wCOI_l8jwa-9",
        "outputId": "34eff5ba-531a-41ed-af61-c927c7364561"
      },
      "id": "wCOI_l8jwa-9",
      "execution_count": 10,
      "outputs": [
        {
          "output_type": "execute_result",
          "data": {
            "text/plain": [
              "  summary            longitude           latitude  housing_median_age  \\\n",
              "0   count                20640              20640               20640   \n",
              "1    mean  -119.56970445736148   35.6318614341087  28.639486434108527   \n",
              "2  stddev    2.003531723502584  2.135952397457101   12.58555761211163   \n",
              "3     min              -124.35              32.54                 1.0   \n",
              "4     max              -114.31              41.95                52.0   \n",
              "\n",
              "          total_rooms      total_bedrooms          population  \\\n",
              "0               20640               20640               20640   \n",
              "1  2635.7630813953488   536.8388565891473  1425.4767441860465   \n",
              "2  2181.6152515827944  419.39187792168866    1132.46212176534   \n",
              "3                 2.0                 1.0                 3.0   \n",
              "4             39320.0              6445.0             35682.0   \n",
              "\n",
              "          households       median_income  median_house_value ocean_proximity  \n",
              "0              20640               20640               20640           20640  \n",
              "1  499.5396802325581  3.8706710029070246  206855.81690891474            None  \n",
              "2  382.3297528316098   1.899821717945263  115395.61587441359            None  \n",
              "3                1.0              0.4999             14999.0       <1H OCEAN  \n",
              "4             6082.0             15.0001            500001.0      NEAR OCEAN  "
            ],
            "text/html": [
              "\n",
              "  <div id=\"df-586d607c-9bf0-4e3f-ad70-806902fadebc\" class=\"colab-df-container\">\n",
              "    <div>\n",
              "<style scoped>\n",
              "    .dataframe tbody tr th:only-of-type {\n",
              "        vertical-align: middle;\n",
              "    }\n",
              "\n",
              "    .dataframe tbody tr th {\n",
              "        vertical-align: top;\n",
              "    }\n",
              "\n",
              "    .dataframe thead th {\n",
              "        text-align: right;\n",
              "    }\n",
              "</style>\n",
              "<table border=\"1\" class=\"dataframe\">\n",
              "  <thead>\n",
              "    <tr style=\"text-align: right;\">\n",
              "      <th></th>\n",
              "      <th>summary</th>\n",
              "      <th>longitude</th>\n",
              "      <th>latitude</th>\n",
              "      <th>housing_median_age</th>\n",
              "      <th>total_rooms</th>\n",
              "      <th>total_bedrooms</th>\n",
              "      <th>population</th>\n",
              "      <th>households</th>\n",
              "      <th>median_income</th>\n",
              "      <th>median_house_value</th>\n",
              "      <th>ocean_proximity</th>\n",
              "    </tr>\n",
              "  </thead>\n",
              "  <tbody>\n",
              "    <tr>\n",
              "      <th>0</th>\n",
              "      <td>count</td>\n",
              "      <td>20640</td>\n",
              "      <td>20640</td>\n",
              "      <td>20640</td>\n",
              "      <td>20640</td>\n",
              "      <td>20640</td>\n",
              "      <td>20640</td>\n",
              "      <td>20640</td>\n",
              "      <td>20640</td>\n",
              "      <td>20640</td>\n",
              "      <td>20640</td>\n",
              "    </tr>\n",
              "    <tr>\n",
              "      <th>1</th>\n",
              "      <td>mean</td>\n",
              "      <td>-119.56970445736148</td>\n",
              "      <td>35.6318614341087</td>\n",
              "      <td>28.639486434108527</td>\n",
              "      <td>2635.7630813953488</td>\n",
              "      <td>536.8388565891473</td>\n",
              "      <td>1425.4767441860465</td>\n",
              "      <td>499.5396802325581</td>\n",
              "      <td>3.8706710029070246</td>\n",
              "      <td>206855.81690891474</td>\n",
              "      <td>None</td>\n",
              "    </tr>\n",
              "    <tr>\n",
              "      <th>2</th>\n",
              "      <td>stddev</td>\n",
              "      <td>2.003531723502584</td>\n",
              "      <td>2.135952397457101</td>\n",
              "      <td>12.58555761211163</td>\n",
              "      <td>2181.6152515827944</td>\n",
              "      <td>419.39187792168866</td>\n",
              "      <td>1132.46212176534</td>\n",
              "      <td>382.3297528316098</td>\n",
              "      <td>1.899821717945263</td>\n",
              "      <td>115395.61587441359</td>\n",
              "      <td>None</td>\n",
              "    </tr>\n",
              "    <tr>\n",
              "      <th>3</th>\n",
              "      <td>min</td>\n",
              "      <td>-124.35</td>\n",
              "      <td>32.54</td>\n",
              "      <td>1.0</td>\n",
              "      <td>2.0</td>\n",
              "      <td>1.0</td>\n",
              "      <td>3.0</td>\n",
              "      <td>1.0</td>\n",
              "      <td>0.4999</td>\n",
              "      <td>14999.0</td>\n",
              "      <td>&lt;1H OCEAN</td>\n",
              "    </tr>\n",
              "    <tr>\n",
              "      <th>4</th>\n",
              "      <td>max</td>\n",
              "      <td>-114.31</td>\n",
              "      <td>41.95</td>\n",
              "      <td>52.0</td>\n",
              "      <td>39320.0</td>\n",
              "      <td>6445.0</td>\n",
              "      <td>35682.0</td>\n",
              "      <td>6082.0</td>\n",
              "      <td>15.0001</td>\n",
              "      <td>500001.0</td>\n",
              "      <td>NEAR OCEAN</td>\n",
              "    </tr>\n",
              "  </tbody>\n",
              "</table>\n",
              "</div>\n",
              "    <div class=\"colab-df-buttons\">\n",
              "\n",
              "  <div class=\"colab-df-container\">\n",
              "    <button class=\"colab-df-convert\" onclick=\"convertToInteractive('df-586d607c-9bf0-4e3f-ad70-806902fadebc')\"\n",
              "            title=\"Convert this dataframe to an interactive table.\"\n",
              "            style=\"display:none;\">\n",
              "\n",
              "  <svg xmlns=\"http://www.w3.org/2000/svg\" height=\"24px\" viewBox=\"0 -960 960 960\">\n",
              "    <path d=\"M120-120v-720h720v720H120Zm60-500h600v-160H180v160Zm220 220h160v-160H400v160Zm0 220h160v-160H400v160ZM180-400h160v-160H180v160Zm440 0h160v-160H620v160ZM180-180h160v-160H180v160Zm440 0h160v-160H620v160Z\"/>\n",
              "  </svg>\n",
              "    </button>\n",
              "\n",
              "  <style>\n",
              "    .colab-df-container {\n",
              "      display:flex;\n",
              "      gap: 12px;\n",
              "    }\n",
              "\n",
              "    .colab-df-convert {\n",
              "      background-color: #E8F0FE;\n",
              "      border: none;\n",
              "      border-radius: 50%;\n",
              "      cursor: pointer;\n",
              "      display: none;\n",
              "      fill: #1967D2;\n",
              "      height: 32px;\n",
              "      padding: 0 0 0 0;\n",
              "      width: 32px;\n",
              "    }\n",
              "\n",
              "    .colab-df-convert:hover {\n",
              "      background-color: #E2EBFA;\n",
              "      box-shadow: 0px 1px 2px rgba(60, 64, 67, 0.3), 0px 1px 3px 1px rgba(60, 64, 67, 0.15);\n",
              "      fill: #174EA6;\n",
              "    }\n",
              "\n",
              "    .colab-df-buttons div {\n",
              "      margin-bottom: 4px;\n",
              "    }\n",
              "\n",
              "    [theme=dark] .colab-df-convert {\n",
              "      background-color: #3B4455;\n",
              "      fill: #D2E3FC;\n",
              "    }\n",
              "\n",
              "    [theme=dark] .colab-df-convert:hover {\n",
              "      background-color: #434B5C;\n",
              "      box-shadow: 0px 1px 3px 1px rgba(0, 0, 0, 0.15);\n",
              "      filter: drop-shadow(0px 1px 2px rgba(0, 0, 0, 0.3));\n",
              "      fill: #FFFFFF;\n",
              "    }\n",
              "  </style>\n",
              "\n",
              "    <script>\n",
              "      const buttonEl =\n",
              "        document.querySelector('#df-586d607c-9bf0-4e3f-ad70-806902fadebc button.colab-df-convert');\n",
              "      buttonEl.style.display =\n",
              "        google.colab.kernel.accessAllowed ? 'block' : 'none';\n",
              "\n",
              "      async function convertToInteractive(key) {\n",
              "        const element = document.querySelector('#df-586d607c-9bf0-4e3f-ad70-806902fadebc');\n",
              "        const dataTable =\n",
              "          await google.colab.kernel.invokeFunction('convertToInteractive',\n",
              "                                                    [key], {});\n",
              "        if (!dataTable) return;\n",
              "\n",
              "        const docLinkHtml = 'Like what you see? Visit the ' +\n",
              "          '<a target=\"_blank\" href=https://colab.research.google.com/notebooks/data_table.ipynb>data table notebook</a>'\n",
              "          + ' to learn more about interactive tables.';\n",
              "        element.innerHTML = '';\n",
              "        dataTable['output_type'] = 'display_data';\n",
              "        await google.colab.output.renderOutput(dataTable, element);\n",
              "        const docLink = document.createElement('div');\n",
              "        docLink.innerHTML = docLinkHtml;\n",
              "        element.appendChild(docLink);\n",
              "      }\n",
              "    </script>\n",
              "  </div>\n",
              "\n",
              "\n",
              "<div id=\"df-c9434e30-becc-491c-a1ed-f1d34bfb9f84\">\n",
              "  <button class=\"colab-df-quickchart\" onclick=\"quickchart('df-c9434e30-becc-491c-a1ed-f1d34bfb9f84')\"\n",
              "            title=\"Suggest charts\"\n",
              "            style=\"display:none;\">\n",
              "\n",
              "<svg xmlns=\"http://www.w3.org/2000/svg\" height=\"24px\"viewBox=\"0 0 24 24\"\n",
              "     width=\"24px\">\n",
              "    <g>\n",
              "        <path d=\"M19 3H5c-1.1 0-2 .9-2 2v14c0 1.1.9 2 2 2h14c1.1 0 2-.9 2-2V5c0-1.1-.9-2-2-2zM9 17H7v-7h2v7zm4 0h-2V7h2v10zm4 0h-2v-4h2v4z\"/>\n",
              "    </g>\n",
              "</svg>\n",
              "  </button>\n",
              "\n",
              "<style>\n",
              "  .colab-df-quickchart {\n",
              "      --bg-color: #E8F0FE;\n",
              "      --fill-color: #1967D2;\n",
              "      --hover-bg-color: #E2EBFA;\n",
              "      --hover-fill-color: #174EA6;\n",
              "      --disabled-fill-color: #AAA;\n",
              "      --disabled-bg-color: #DDD;\n",
              "  }\n",
              "\n",
              "  [theme=dark] .colab-df-quickchart {\n",
              "      --bg-color: #3B4455;\n",
              "      --fill-color: #D2E3FC;\n",
              "      --hover-bg-color: #434B5C;\n",
              "      --hover-fill-color: #FFFFFF;\n",
              "      --disabled-bg-color: #3B4455;\n",
              "      --disabled-fill-color: #666;\n",
              "  }\n",
              "\n",
              "  .colab-df-quickchart {\n",
              "    background-color: var(--bg-color);\n",
              "    border: none;\n",
              "    border-radius: 50%;\n",
              "    cursor: pointer;\n",
              "    display: none;\n",
              "    fill: var(--fill-color);\n",
              "    height: 32px;\n",
              "    padding: 0;\n",
              "    width: 32px;\n",
              "  }\n",
              "\n",
              "  .colab-df-quickchart:hover {\n",
              "    background-color: var(--hover-bg-color);\n",
              "    box-shadow: 0 1px 2px rgba(60, 64, 67, 0.3), 0 1px 3px 1px rgba(60, 64, 67, 0.15);\n",
              "    fill: var(--button-hover-fill-color);\n",
              "  }\n",
              "\n",
              "  .colab-df-quickchart-complete:disabled,\n",
              "  .colab-df-quickchart-complete:disabled:hover {\n",
              "    background-color: var(--disabled-bg-color);\n",
              "    fill: var(--disabled-fill-color);\n",
              "    box-shadow: none;\n",
              "  }\n",
              "\n",
              "  .colab-df-spinner {\n",
              "    border: 2px solid var(--fill-color);\n",
              "    border-color: transparent;\n",
              "    border-bottom-color: var(--fill-color);\n",
              "    animation:\n",
              "      spin 1s steps(1) infinite;\n",
              "  }\n",
              "\n",
              "  @keyframes spin {\n",
              "    0% {\n",
              "      border-color: transparent;\n",
              "      border-bottom-color: var(--fill-color);\n",
              "      border-left-color: var(--fill-color);\n",
              "    }\n",
              "    20% {\n",
              "      border-color: transparent;\n",
              "      border-left-color: var(--fill-color);\n",
              "      border-top-color: var(--fill-color);\n",
              "    }\n",
              "    30% {\n",
              "      border-color: transparent;\n",
              "      border-left-color: var(--fill-color);\n",
              "      border-top-color: var(--fill-color);\n",
              "      border-right-color: var(--fill-color);\n",
              "    }\n",
              "    40% {\n",
              "      border-color: transparent;\n",
              "      border-right-color: var(--fill-color);\n",
              "      border-top-color: var(--fill-color);\n",
              "    }\n",
              "    60% {\n",
              "      border-color: transparent;\n",
              "      border-right-color: var(--fill-color);\n",
              "    }\n",
              "    80% {\n",
              "      border-color: transparent;\n",
              "      border-right-color: var(--fill-color);\n",
              "      border-bottom-color: var(--fill-color);\n",
              "    }\n",
              "    90% {\n",
              "      border-color: transparent;\n",
              "      border-bottom-color: var(--fill-color);\n",
              "    }\n",
              "  }\n",
              "</style>\n",
              "\n",
              "  <script>\n",
              "    async function quickchart(key) {\n",
              "      const quickchartButtonEl =\n",
              "        document.querySelector('#' + key + ' button');\n",
              "      quickchartButtonEl.disabled = true;  // To prevent multiple clicks.\n",
              "      quickchartButtonEl.classList.add('colab-df-spinner');\n",
              "      try {\n",
              "        const charts = await google.colab.kernel.invokeFunction(\n",
              "            'suggestCharts', [key], {});\n",
              "      } catch (error) {\n",
              "        console.error('Error during call to suggestCharts:', error);\n",
              "      }\n",
              "      quickchartButtonEl.classList.remove('colab-df-spinner');\n",
              "      quickchartButtonEl.classList.add('colab-df-quickchart-complete');\n",
              "    }\n",
              "    (() => {\n",
              "      let quickchartButtonEl =\n",
              "        document.querySelector('#df-c9434e30-becc-491c-a1ed-f1d34bfb9f84 button');\n",
              "      quickchartButtonEl.style.display =\n",
              "        google.colab.kernel.accessAllowed ? 'block' : 'none';\n",
              "    })();\n",
              "  </script>\n",
              "</div>\n",
              "    </div>\n",
              "  </div>\n"
            ],
            "application/vnd.google.colaboratory.intrinsic+json": {
              "type": "dataframe",
              "summary": "{\n  \"name\": \"df\",\n  \"rows\": 5,\n  \"fields\": [\n    {\n      \"column\": \"summary\",\n      \"properties\": {\n        \"dtype\": \"string\",\n        \"num_unique_values\": 5,\n        \"samples\": [\n          \"mean\",\n          \"max\",\n          \"stddev\"\n        ],\n        \"semantic_type\": \"\",\n        \"description\": \"\"\n      }\n    },\n    {\n      \"column\": \"longitude\",\n      \"properties\": {\n        \"dtype\": \"string\",\n        \"num_unique_values\": 5,\n        \"samples\": [\n          \"-119.56970445736148\",\n          \"-114.31\",\n          \"2.003531723502584\"\n        ],\n        \"semantic_type\": \"\",\n        \"description\": \"\"\n      }\n    },\n    {\n      \"column\": \"latitude\",\n      \"properties\": {\n        \"dtype\": \"string\",\n        \"num_unique_values\": 5,\n        \"samples\": [\n          \"35.6318614341087\",\n          \"41.95\",\n          \"2.135952397457101\"\n        ],\n        \"semantic_type\": \"\",\n        \"description\": \"\"\n      }\n    },\n    {\n      \"column\": \"housing_median_age\",\n      \"properties\": {\n        \"dtype\": \"string\",\n        \"num_unique_values\": 5,\n        \"samples\": [\n          \"28.639486434108527\",\n          \"52.0\",\n          \"12.58555761211163\"\n        ],\n        \"semantic_type\": \"\",\n        \"description\": \"\"\n      }\n    },\n    {\n      \"column\": \"total_rooms\",\n      \"properties\": {\n        \"dtype\": \"string\",\n        \"num_unique_values\": 5,\n        \"samples\": [\n          \"2635.7630813953488\",\n          \"39320.0\",\n          \"2181.6152515827944\"\n        ],\n        \"semantic_type\": \"\",\n        \"description\": \"\"\n      }\n    },\n    {\n      \"column\": \"total_bedrooms\",\n      \"properties\": {\n        \"dtype\": \"string\",\n        \"num_unique_values\": 5,\n        \"samples\": [\n          \"536.8388565891473\",\n          \"6445.0\",\n          \"419.39187792168866\"\n        ],\n        \"semantic_type\": \"\",\n        \"description\": \"\"\n      }\n    },\n    {\n      \"column\": \"population\",\n      \"properties\": {\n        \"dtype\": \"string\",\n        \"num_unique_values\": 5,\n        \"samples\": [\n          \"1425.4767441860465\",\n          \"35682.0\",\n          \"1132.46212176534\"\n        ],\n        \"semantic_type\": \"\",\n        \"description\": \"\"\n      }\n    },\n    {\n      \"column\": \"households\",\n      \"properties\": {\n        \"dtype\": \"string\",\n        \"num_unique_values\": 5,\n        \"samples\": [\n          \"499.5396802325581\",\n          \"6082.0\",\n          \"382.3297528316098\"\n        ],\n        \"semantic_type\": \"\",\n        \"description\": \"\"\n      }\n    },\n    {\n      \"column\": \"median_income\",\n      \"properties\": {\n        \"dtype\": \"string\",\n        \"num_unique_values\": 5,\n        \"samples\": [\n          \"3.8706710029070246\",\n          \"15.0001\",\n          \"1.899821717945263\"\n        ],\n        \"semantic_type\": \"\",\n        \"description\": \"\"\n      }\n    },\n    {\n      \"column\": \"median_house_value\",\n      \"properties\": {\n        \"dtype\": \"string\",\n        \"num_unique_values\": 5,\n        \"samples\": [\n          \"206855.81690891474\",\n          \"500001.0\",\n          \"115395.61587441359\"\n        ],\n        \"semantic_type\": \"\",\n        \"description\": \"\"\n      }\n    },\n    {\n      \"column\": \"ocean_proximity\",\n      \"properties\": {\n        \"dtype\": \"string\",\n        \"num_unique_values\": 3,\n        \"samples\": [\n          \"20640\",\n          \"<1H OCEAN\",\n          \"NEAR OCEAN\"\n        ],\n        \"semantic_type\": \"\",\n        \"description\": \"\"\n      }\n    }\n  ]\n}"
            }
          },
          "metadata": {},
          "execution_count": 10
        }
      ]
    },
    {
      "cell_type": "markdown",
      "source": [
        "Среднее и стандартное отклонение почти не изменились."
      ],
      "metadata": {
        "id": "SmANBdTKwuBB"
      },
      "id": "SmANBdTKwuBB"
    },
    {
      "cell_type": "markdown",
      "source": [
        "####Выводы\n",
        "Проверили пропуски в данных и заполнили их медианными значениями."
      ],
      "metadata": {
        "id": "6XKs2dwaw9Vl"
      },
      "id": "6XKs2dwaw9Vl"
    },
    {
      "cell_type": "markdown",
      "source": [
        "###Преобразование категориальных признаков\n",
        "Преобразуем колонку с категориальными значениями техникой One hot encoding.\n",
        "\n",
        "Разделим колонки на два типа: числовые и текстовые, которые представляют категориальные данные."
      ],
      "metadata": {
        "id": "CJ0Maiw-xBEl"
      },
      "id": "CJ0Maiw-xBEl"
    },
    {
      "cell_type": "code",
      "source": [
        "categorical_cols = ['ocean_proximity'] # Определяем список категориальных признаков.\n",
        "numerical_cols = ['longitude', 'latitude', 'housing_median_age', 'total_rooms',\n",
        "                   'total_bedrooms', 'population', 'households', 'median_income'] # Определяем список числовых признаков.\n",
        "target = 'median_house_value' # Определяем целевой признак для предсказания."
      ],
      "metadata": {
        "id": "cYmpbdljxuZt"
      },
      "id": "cYmpbdljxuZt",
      "execution_count": 11,
      "outputs": []
    },
    {
      "cell_type": "markdown",
      "source": [
        "Применим технику сначала StringIndexer для перевода категориальных признаков в численные."
      ],
      "metadata": {
        "id": "qjLMRwPmyn4k"
      },
      "id": "qjLMRwPmyn4k"
    },
    {
      "cell_type": "code",
      "source": [
        "indexer = StringIndexer(inputCols=categorical_cols, outputCols=[c+'_idx' for c in categorical_cols]) # Создаем объект\n",
        "# StringIndexer для преобразования категориальных признаков в числовые индексы.\n",
        "df = indexer.fit(df).transform(df) # Обучаем и применяем StringIndexer к DataFrame.\n",
        "\n",
        "cols = [c for c in df.columns for i in categorical_cols if (c.startswith(i))] # Получаем список столбцов, которые были\n",
        "                                                                              # преобразованы в индексы.\n",
        "df.select(cols).show(3) # Показываем первые 3 строки преобразованных категориальных признаков."
      ],
      "metadata": {
        "colab": {
          "base_uri": "https://localhost:8080/"
        },
        "id": "XVlv31BDypEM",
        "outputId": "7f180c05-9fc2-4503-bfac-d6be609251ee"
      },
      "id": "XVlv31BDypEM",
      "execution_count": 12,
      "outputs": [
        {
          "output_type": "stream",
          "name": "stdout",
          "text": [
            "+---------------+-------------------+\n",
            "|ocean_proximity|ocean_proximity_idx|\n",
            "+---------------+-------------------+\n",
            "|       NEAR BAY|                3.0|\n",
            "|       NEAR BAY|                3.0|\n",
            "|       NEAR BAY|                3.0|\n",
            "+---------------+-------------------+\n",
            "only showing top 3 rows\n",
            "\n"
          ]
        }
      ]
    },
    {
      "cell_type": "markdown",
      "source": [
        "Теперь можно применить технику OHE."
      ],
      "metadata": {
        "id": "wLeB4aSy0ePI"
      },
      "id": "wLeB4aSy0ePI"
    },
    {
      "cell_type": "code",
      "source": [
        "# Создаем объект OneHotEncoder для кодирования индексов в one-hot представление.\n",
        "encoder = OneHotEncoder(inputCols=[c+'_idx' for c in categorical_cols], outputCols=[c+'_ohe' for c in categorical_cols])\n",
        "df = encoder.fit(df).transform(df) # Обучаем и применяем OneHotEncoder к DataFrame.\n",
        "\n",
        "cols = [c for c in df.columns for i in categorical_cols if (c.startswith(i))] # Получаем список столбцов, которые были\n",
        "                                                                              # закодированы в one-hot представление.\n",
        "df.select(cols).show(3) # Показываем первые 3 строки закодированных категориальных признаков."
      ],
      "metadata": {
        "colab": {
          "base_uri": "https://localhost:8080/"
        },
        "id": "J7Yz4PxI0g7N",
        "outputId": "f993e2ca-4912-4a4d-b94c-bc90ee296c0d"
      },
      "id": "J7Yz4PxI0g7N",
      "execution_count": 13,
      "outputs": [
        {
          "output_type": "stream",
          "name": "stdout",
          "text": [
            "+---------------+-------------------+-------------------+\n",
            "|ocean_proximity|ocean_proximity_idx|ocean_proximity_ohe|\n",
            "+---------------+-------------------+-------------------+\n",
            "|       NEAR BAY|                3.0|      (4,[3],[1.0])|\n",
            "|       NEAR BAY|                3.0|      (4,[3],[1.0])|\n",
            "|       NEAR BAY|                3.0|      (4,[3],[1.0])|\n",
            "+---------------+-------------------+-------------------+\n",
            "only showing top 3 rows\n",
            "\n"
          ]
        }
      ]
    },
    {
      "cell_type": "markdown",
      "source": [
        "####Выводы\n",
        "Перевели в векторный вид категориальную колонку."
      ],
      "metadata": {
        "id": "AFZNjypq2WGv"
      },
      "id": "AFZNjypq2WGv"
    },
    {
      "cell_type": "markdown",
      "source": [
        "###Преобразование числовых признаков\n",
        "Для числовых признаков тоже нужна трансформация — шкалирование значений — чтобы сильные выбросы не смещали предсказания модели. Применим StandardScaler.\n",
        "\n",
        "Соберём вектор числовых признаков в отдельный столбец."
      ],
      "metadata": {
        "id": "BHCF1FQP2tjG"
      },
      "id": "BHCF1FQP2tjG"
    },
    {
      "cell_type": "code",
      "source": [
        "# Создаем объект VectorAssembler для объединения числовых признаков в один векторный столбец 'numerical_features'.\n",
        "numerical_assembler = VectorAssembler(inputCols=numerical_cols, outputCol='numerical_features')\n",
        "df = numerical_assembler.transform(df) # Применяем VectorAssembler к DataFrame для создания нового столбца\n",
        "                                       # с векторными признаками."
      ],
      "metadata": {
        "id": "Z3IZ7qoT209B"
      },
      "id": "Z3IZ7qoT209B",
      "execution_count": 14,
      "outputs": []
    },
    {
      "cell_type": "markdown",
      "source": [
        "Применим к столбцу с вектором числовых признаков StandardScaler."
      ],
      "metadata": {
        "id": "Q0vnzFLKXqtv"
      },
      "id": "Q0vnzFLKXqtv"
    },
    {
      "cell_type": "code",
      "source": [
        "# Создаем объект StandardScaler для стандартизации векторных признаков.\n",
        "standardScaler = StandardScaler(inputCol='numerical_features', outputCol='numerical_features_scaled')\n",
        "df = standardScaler.fit(df).transform(df) # Обучаем StandardScaler на данных и применяем его для стандартизации.\n",
        "df.printSchema() # Выводим схему DataFrame, чтобы увидеть обновленные типы данных после добавления новых столбцов."
      ],
      "metadata": {
        "colab": {
          "base_uri": "https://localhost:8080/"
        },
        "id": "LxqNWHv-XsEn",
        "outputId": "3634df74-69a4-4476-94b1-4c1952b9b172"
      },
      "id": "LxqNWHv-XsEn",
      "execution_count": 17,
      "outputs": [
        {
          "output_type": "stream",
          "name": "stdout",
          "text": [
            "root\n",
            " |-- longitude: double (nullable = true)\n",
            " |-- latitude: double (nullable = true)\n",
            " |-- housing_median_age: double (nullable = true)\n",
            " |-- total_rooms: double (nullable = true)\n",
            " |-- total_bedrooms: double (nullable = true)\n",
            " |-- population: double (nullable = true)\n",
            " |-- households: double (nullable = true)\n",
            " |-- median_income: double (nullable = true)\n",
            " |-- median_house_value: double (nullable = true)\n",
            " |-- ocean_proximity: string (nullable = true)\n",
            " |-- ocean_proximity_idx: double (nullable = false)\n",
            " |-- ocean_proximity_ohe: vector (nullable = true)\n",
            " |-- numerical_features: vector (nullable = true)\n",
            " |-- numerical_features_scled: vector (nullable = true)\n",
            " |-- numerical_features_scaled: vector (nullable = true)\n",
            "\n"
          ]
        }
      ]
    },
    {
      "cell_type": "markdown",
      "source": [
        "Финальный шаг — собрать трансформированные категорийные и числовые признаки с помощью VectorAssembler."
      ],
      "metadata": {
        "id": "IWvSkPuxYy1P"
      },
      "id": "IWvSkPuxYy1P"
    },
    {
      "cell_type": "code",
      "source": [
        "all_features = ['ocean_proximity_ohe','numerical_features_scaled'] # Определяем список всех признаков, которые будем\n",
        "                                                                   # использовать для обучения модели.\n",
        "final_assembler = VectorAssembler(inputCols=all_features, outputCol='features') # Создаем объект VectorAssembler для\n",
        "                                                          # объединения всех признаков в один векторный столбец 'features'.\n",
        "df = final_assembler.transform(df) # Применяем финальный VectorAssembler к DataFrame для создания нового столбца с\n",
        "                                   # объединенными признаками."
      ],
      "metadata": {
        "id": "gSLs5TWkY0OK"
      },
      "id": "gSLs5TWkY0OK",
      "execution_count": 18,
      "outputs": []
    },
    {
      "cell_type": "code",
      "source": [
        "df.select('features').show(3) # Показываем первые 3 строки столбца 'features' для проверки результата объединения признаков.\n",
        "df.select('numerical_features_scaled').show(3) # Показываем первые 3 строки столбца 'numerical_features_scaled' для\n",
        "                                               # проверки стандартизации."
      ],
      "metadata": {
        "colab": {
          "base_uri": "https://localhost:8080/"
        },
        "id": "SVXoM_lEaWNS",
        "outputId": "d7334339-528a-48ff-adfe-91f10ae2cf3a"
      },
      "id": "SVXoM_lEaWNS",
      "execution_count": 19,
      "outputs": [
        {
          "output_type": "stream",
          "name": "stdout",
          "text": [
            "+--------------------+\n",
            "|            features|\n",
            "+--------------------+\n",
            "|[0.0,0.0,0.0,1.0,...|\n",
            "|[0.0,0.0,0.0,1.0,...|\n",
            "|[0.0,0.0,0.0,1.0,...|\n",
            "+--------------------+\n",
            "only showing top 3 rows\n",
            "\n",
            "+-------------------------+\n",
            "|numerical_features_scaled|\n",
            "+-------------------------+\n",
            "|     [-61.007269596069...|\n",
            "|     [-61.002278409814...|\n",
            "|     [-61.012260782324...|\n",
            "+-------------------------+\n",
            "only showing top 3 rows\n",
            "\n"
          ]
        }
      ]
    },
    {
      "cell_type": "markdown",
      "source": [
        "####Выводы\n",
        "Мы преобразовали числовые признаки в вектора, объединили с категориальным и создали два набора данных. Один включающий все признаки, второй только количественные."
      ],
      "metadata": {
        "id": "HlZH1ivEbAqd"
      },
      "id": "HlZH1ivEbAqd"
    },
    {
      "cell_type": "markdown",
      "id": "9f0a82f3",
      "metadata": {
        "id": "9f0a82f3"
      },
      "source": [
        "## Обучение моделей\n",
        "Разделим наши наборы данных на тренировочные и тестовые."
      ]
    },
    {
      "cell_type": "code",
      "execution_count": 20,
      "id": "bddb08c4",
      "metadata": {
        "id": "bddb08c4",
        "colab": {
          "base_uri": "https://localhost:8080/"
        },
        "outputId": "72f6278a-35e5-4eaa-a509-eae720279c26"
      },
      "outputs": [
        {
          "output_type": "stream",
          "name": "stdout",
          "text": [
            "16573 4067\n"
          ]
        }
      ],
      "source": [
        "train, test = df.randomSplit([.8,.2], seed=SEED) # Разделяем данные на обучающую (80%) и тестовую (20%) выборки с\n",
        "                                                 # фиксированным значением генератора случайных чисел.\n",
        "print(train.count(), test.count()) # Выводим количество строк в обучающей и тестовой выборках для проверки."
      ]
    },
    {
      "cell_type": "markdown",
      "source": [
        "Создадим и обучим оценщик LinearRegression."
      ],
      "metadata": {
        "id": "_slOGgXfcdnN"
      },
      "id": "_slOGgXfcdnN"
    },
    {
      "cell_type": "code",
      "source": [
        "# Создаем объект линейной регрессии с заданными параметрами для модели, использующей все признаки.\n",
        "lr_all = LinearRegression(labelCol=target, featuresCol='features', maxIter=10, regParam=0.3, elasticNetParam=0.8)\n",
        "model_all = lr_all.fit(train) # Обучаем модель линейной регрессии на обучающей выборке.\n",
        "\n",
        "lr_num = LinearRegression(labelCol=target, featuresCol='numerical_features_scaled',\n",
        "                          maxIter=10, regParam=0.3, elasticNetParam=0.8) # Создаем объект линейной регрессии для модели,\n",
        "                                                                # использующей только стандартизированные числовые признаки.\n",
        "model_num = lr_num.fit(train) # Обучаем модель линейной регрессии на обучающей выборке."
      ],
      "metadata": {
        "id": "XyOF_FlUcAKi"
      },
      "id": "XyOF_FlUcAKi",
      "execution_count": 23,
      "outputs": []
    },
    {
      "cell_type": "markdown",
      "source": [
        "Посмотрим на предсказания моделей, со всеми признаками:"
      ],
      "metadata": {
        "id": "oPY6yp7yeVXJ"
      },
      "id": "oPY6yp7yeVXJ"
    },
    {
      "cell_type": "code",
      "source": [
        "predictions_all = model_all.transform(test) # Применяем обученную модель ко всем признакам на тестовой выборке для\n",
        "                                            # получения предсказаний.\n",
        "predicted_all = predictions_all.select('median_house_value', 'prediction') # Извлекаем реальные значения и предсказания из\n",
        "                                                                           # тестовой выборки.\n",
        "predicted_all.show(10) # Показываем первые 10 строк с реальными значениями и предсказаниями для проверки."
      ],
      "metadata": {
        "colab": {
          "base_uri": "https://localhost:8080/"
        },
        "id": "CGFcj7m_eW0x",
        "outputId": "fa9c80f7-dd78-45a1-a764-ea8476444b1e"
      },
      "id": "CGFcj7m_eW0x",
      "execution_count": 24,
      "outputs": [
        {
          "output_type": "stream",
          "name": "stdout",
          "text": [
            "+------------------+------------------+\n",
            "|median_house_value|        prediction|\n",
            "+------------------+------------------+\n",
            "|          106700.0| 231885.9358476114|\n",
            "|           78300.0|155799.70800574054|\n",
            "|           70000.0| 166422.5769561075|\n",
            "|           70500.0| 161990.8711288469|\n",
            "|           86400.0|200405.75004111463|\n",
            "|           60000.0| 159650.6852665979|\n",
            "|          105900.0|164879.29050004017|\n",
            "|          109400.0| 200361.7137626144|\n",
            "|           85100.0|193512.05173163512|\n",
            "|           92700.0|202673.46662855404|\n",
            "+------------------+------------------+\n",
            "only showing top 10 rows\n",
            "\n"
          ]
        }
      ]
    },
    {
      "cell_type": "markdown",
      "source": [
        "И только с числовыми признаками:"
      ],
      "metadata": {
        "id": "peEFTYiXfQm1"
      },
      "id": "peEFTYiXfQm1"
    },
    {
      "cell_type": "code",
      "source": [
        "predictions_num = model_num.transform(test) # Применяем обученную модель с числовыми признаками на тестовой выборке для\n",
        "                                            # получения предсказаний.\n",
        "predicted_num = predictions_num.select('median_house_value', 'prediction') # Извлекаем реальные значения и предсказания из\n",
        "                                                                           # тестовой выборки.\n",
        "predicted_num.show(10) # Показываем первые 10 строк с реальными значениями и предсказаниями для проверки."
      ],
      "metadata": {
        "colab": {
          "base_uri": "https://localhost:8080/"
        },
        "id": "VTiJB2BqfSK8",
        "outputId": "5b55c4a9-b7a8-48c5-ede9-c3fe39619f38"
      },
      "id": "VTiJB2BqfSK8",
      "execution_count": 25,
      "outputs": [
        {
          "output_type": "stream",
          "name": "stdout",
          "text": [
            "+------------------+------------------+\n",
            "|median_house_value|        prediction|\n",
            "+------------------+------------------+\n",
            "|          106700.0|192166.85561598092|\n",
            "|           78300.0| 85574.56148353405|\n",
            "|           70000.0|114982.99945464544|\n",
            "|           70500.0|110024.14066426875|\n",
            "|           86400.0|153491.36768210493|\n",
            "|           60000.0| 110568.8321413449|\n",
            "|          105900.0|  88779.0739096175|\n",
            "|          109400.0|122012.70780284284|\n",
            "|           85100.0|148191.54561184114|\n",
            "|           92700.0| 154945.2598633254|\n",
            "+------------------+------------------+\n",
            "only showing top 10 rows\n",
            "\n"
          ]
        }
      ]
    },
    {
      "cell_type": "markdown",
      "source": [
        "####Выводы\n",
        "Мы разделили данные на обучающие и тестовые выборки, обучили модели линейной регрессии и посмотрели на их предсказания."
      ],
      "metadata": {
        "id": "xjG8Cm-8gGSk"
      },
      "id": "xjG8Cm-8gGSk"
    },
    {
      "cell_type": "markdown",
      "id": "757fd103",
      "metadata": {
        "id": "757fd103"
      },
      "source": [
        "## Анализ результатов\n",
        "Сравним результаты работы линейной регрессии на двух наборах данных по метрикам RMSE, MAE и R2."
      ]
    },
    {
      "cell_type": "code",
      "source": [
        "training_summary_all = model_all.summary # Получаем сводку о модели, обученной на всех признаках.\n",
        "print('RMSE: %f' % training_summary_all.rootMeanSquaredError) # Выводим корень среднеквадратичной ошибки (RMSE) для\n",
        "                                                              # модели с использованием всех признаков.\n",
        "print('MAE: %f' % training_summary_all.meanAbsoluteError) # Выводим среднюю абсолютную ошибку (MAE) для модели\n",
        "                                                          # с использованием всех признаков.\n",
        "print('R2: %f' % training_summary_all.r2) #Выводим коэффициент детерминации (R²) для модели с использованием всех признаков."
      ],
      "metadata": {
        "colab": {
          "base_uri": "https://localhost:8080/"
        },
        "id": "UxHkdz9ygVB0",
        "outputId": "7317d2be-39ef-40ae-ceeb-d0fc3d7c9f07"
      },
      "id": "UxHkdz9ygVB0",
      "execution_count": 26,
      "outputs": [
        {
          "output_type": "stream",
          "name": "stdout",
          "text": [
            "RMSE: 69003.554642\n",
            "MAE: 50038.513122\n",
            "R2: 0.640441\n"
          ]
        }
      ]
    },
    {
      "cell_type": "code",
      "source": [
        "training_summary_num = model_num.summary # Получаем сводку о модели, обученной только на числовых признаках.\n",
        "print('RMSE: %f' % training_summary_num.rootMeanSquaredError) # Выводим RMSE для модели с использованием числовых признаков.\n",
        "print('MAE: %f' % training_summary_num.meanAbsoluteError) # Выводим MAE для модели с использованием числовых признаков.\n",
        "print('R2: %f' % training_summary_num.r2) # Выводим R² для модели с использованием числовых признаков."
      ],
      "metadata": {
        "colab": {
          "base_uri": "https://localhost:8080/"
        },
        "id": "mAShCnGwhp2l",
        "outputId": "63f730b7-8f18-4f26-a658-4408d60bf6cf"
      },
      "id": "mAShCnGwhp2l",
      "execution_count": 27,
      "outputs": [
        {
          "output_type": "stream",
          "name": "stdout",
          "text": [
            "RMSE: 69806.260737\n",
            "MAE: 50949.855170\n",
            "R2: 0.632027\n"
          ]
        }
      ]
    },
    {
      "cell_type": "markdown",
      "source": [
        "RMSE и MAE измеряют разницу между предсказанным значением медианной цены дома и его реальной ценой. Реальная цена по набору лежит в диапазоне от 15000 до 500000. Ошибки в случае с использованием всего набора данных чуть меньше. Но не существенно.\n",
        "\n",
        "Коэффициент детерминации, показывающий долю корректных предсказаний нашей модели выше у модели учитывающей все признаки.\n",
        "\n",
        "Проверим наши модели на тестовых данных."
      ],
      "metadata": {
        "id": "QG_20qcQi7wz"
      },
      "id": "QG_20qcQi7wz"
    },
    {
      "cell_type": "code",
      "source": [
        "test_summary_all = model_all.evaluate(test) # Оцениваем модель с использованием всех признаков на тестовой выборке.\n",
        "print('RMSE: %f' % test_summary_all.rootMeanSquaredError) # Выводим RMSE для тестовой выборки модели с использованием\n",
        "                                                          # всех признаков.\n",
        "print('MAE: %f' % test_summary_all.meanAbsoluteError) # Выводим MAE для тестовой выборки модели с использованием\n",
        "                                                      # всех признаков\n",
        "print('R2: %f' % test_summary_all.r2) # Выводим R² для тестовой выборки модели с использованием всех признаков."
      ],
      "metadata": {
        "colab": {
          "base_uri": "https://localhost:8080/"
        },
        "id": "x54Tl7LcjCmy",
        "outputId": "a6565a0d-0d70-4a8d-a2fa-8ece06169fb8"
      },
      "id": "x54Tl7LcjCmy",
      "execution_count": 28,
      "outputs": [
        {
          "output_type": "stream",
          "name": "stdout",
          "text": [
            "RMSE: 70940.383666\n",
            "MAE: 50393.890118\n",
            "R2: 0.630216\n"
          ]
        }
      ]
    },
    {
      "cell_type": "code",
      "source": [
        "test_summary_num = model_num.evaluate(test) # Оцениваем модель с использованием числовых признаков на тестовой выборке.\n",
        "print('RMSE: %f' % test_summary_num.rootMeanSquaredError) # Выводим RMSE для тестовой выборки модели с использованием\n",
        "                                                          # числовых признаков.\n",
        "print('MSE: %f' % test_summary_num.meanAbsoluteError) # Выводим MAE для тестовой выборки модели с использованием\n",
        "                                                      # числовых признаков.\n",
        "print('R2: %f' % test_summary_num.r2) # Выводим R² для тестовой выборки модели с использованием числовых признаков."
      ],
      "metadata": {
        "colab": {
          "base_uri": "https://localhost:8080/"
        },
        "id": "KNi91qgdj2jz",
        "outputId": "c1f5f91e-3ffb-4c32-bd6e-4d2e28a986f6"
      },
      "id": "KNi91qgdj2jz",
      "execution_count": 30,
      "outputs": [
        {
          "output_type": "stream",
          "name": "stdout",
          "text": [
            "RMSE: 71560.050901\n",
            "MSE: 51063.192068\n",
            "R2: 0.623728\n"
          ]
        }
      ]
    },
    {
      "cell_type": "markdown",
      "source": [
        "####Выводы\n",
        "Мы проверили результаты работы линейной регрессии на обучающих и тестовых наборах данных.\n",
        "\n",
        "Вычислили по три метрики для всех результатов: RMSE, MAE, R2.\n",
        "\n",
        "В целом модели показывают неплохой результат. На тестовом наборе данных лучший результат показала модель обученная как на количественных так и на категориальном признаках.\n",
        "\n",
        "На тестовом наборе все метрики ухудшились, но незначительно. Можем считать что модели не переобучились."
      ],
      "metadata": {
        "id": "apX5RrOOkvgT"
      },
      "id": "apX5RrOOkvgT"
    },
    {
      "cell_type": "code",
      "source": [
        "spark.stop() # Завершаем сессию Spark, освобождая ресурсы."
      ],
      "metadata": {
        "id": "JT8mIC7mDgUP"
      },
      "id": "JT8mIC7mDgUP",
      "execution_count": 31,
      "outputs": []
    }
  ],
  "metadata": {
    "colab": {
      "provenance": []
    },
    "kernelspec": {
      "display_name": "Python 3 (ipykernel)",
      "language": "python",
      "name": "python3"
    },
    "language_info": {
      "codemirror_mode": {
        "name": "ipython",
        "version": 3
      },
      "file_extension": ".py",
      "mimetype": "text/x-python",
      "name": "python",
      "nbconvert_exporter": "python",
      "pygments_lexer": "ipython3",
      "version": "3.9.5"
    },
    "toc": {
      "base_numbering": 1,
      "nav_menu": {},
      "number_sections": true,
      "sideBar": true,
      "skip_h1_title": true,
      "title_cell": "Table of Contents",
      "title_sidebar": "Contents",
      "toc_cell": false,
      "toc_position": {},
      "toc_section_display": true,
      "toc_window_display": false
    }
  },
  "nbformat": 4,
  "nbformat_minor": 5
}